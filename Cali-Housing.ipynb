{
 "cells": [
  {
   "cell_type": "code",
   "execution_count": 1,
   "id": "0192ad56-8f52-43ca-b289-eab364d74dc1",
   "metadata": {},
   "outputs": [],
   "source": [
    "import os\n",
    "import tarfile\n",
    "import urllib"
   ]
  },
  {
   "cell_type": "code",
   "execution_count": 2,
   "id": "9da6e686-083d-43da-81bd-02a6080d5b6a",
   "metadata": {},
   "outputs": [],
   "source": [
    "DOWNLOAD_ROOT = 'https://raw.githubusercontent.com/ageron/handson-ml2/master/'\n",
    "HOUSING_PATH = os.path.join(\"datasets\",\"housing\")\n",
    "HOUSING_URL = DOWNLOAD_ROOT + \"datasets/housing/housing.tgz\""
   ]
  },
  {
   "cell_type": "code",
   "execution_count": 3,
   "id": "28036e9d-6641-4025-a2b6-cd2fb807ccb7",
   "metadata": {},
   "outputs": [],
   "source": [
    "def fetch_housing_data(housing_url = HOUSING_URL,housing_path = HOUSING_PATH):\n",
    "    os.makedirs(housing_path,exist_ok = True)\n",
    "    tgz_path =os.path.join(housing_path,\"housing.tgz\")\n",
    "    urllib.request.urlretrieve(housing_url,tgz_path)\n",
    "    housing_tgz = tarfile.open(tgz_path)\n",
    "    housing_tgz.extractall(path = housing_path)\n",
    "    housing_tgz.close()"
   ]
  },
  {
   "cell_type": "code",
   "execution_count": 4,
   "id": "c466f312-4bb3-40b4-987f-3eae6d2a1bd0",
   "metadata": {},
   "outputs": [],
   "source": [
    "# The cell above defines a function to automate accessing raw data for this project from github."
   ]
  },
  {
   "cell_type": "code",
   "execution_count": 5,
   "id": "a13e258b-7ef3-4526-8a1b-dd7247fdab7b",
   "metadata": {},
   "outputs": [],
   "source": [
    "fetch_housing_data()"
   ]
  },
  {
   "cell_type": "code",
   "execution_count": null,
   "id": "6b2dc356-3dea-4073-93f9-ed3e68dff0f8",
   "metadata": {},
   "outputs": [],
   "source": [
    "import pandas as pd"
   ]
  },
  {
   "cell_type": "code",
   "execution_count": null,
   "id": "2a7be317-cddc-4960-b589-4856d0ffade3",
   "metadata": {},
   "outputs": [],
   "source": [
    "def load_housing_data(housing_path = HOUSING_PATH):\n",
    "    csv_path = os.path.join(housing_path,\"housing.csv\")\n",
    "    return pd.read_csv(csv_path)\n"
   ]
  },
  {
   "cell_type": "code",
   "execution_count": null,
   "id": "a3d6012d-6759-4dc4-87b8-e1db6e38be67",
   "metadata": {},
   "outputs": [],
   "source": [
    "# The cell above returns the data as a dataframe object."
   ]
  }
 ],
 "metadata": {
  "kernelspec": {
   "display_name": "Python 3 (ipykernel)",
   "language": "python",
   "name": "python3"
  },
  "language_info": {
   "codemirror_mode": {
    "name": "ipython",
    "version": 3
   },
   "file_extension": ".py",
   "mimetype": "text/x-python",
   "name": "python",
   "nbconvert_exporter": "python",
   "pygments_lexer": "ipython3",
   "version": "3.10.6"
  }
 },
 "nbformat": 4,
 "nbformat_minor": 5
}
